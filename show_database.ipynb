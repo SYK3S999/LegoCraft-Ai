{
 "cells": [
  {
   "cell_type": "code",
   "execution_count": 1,
   "metadata": {},
   "outputs": [
    {
     "data": {
      "text/plain": [
       "[(1,\n",
       "  '1, 0, 10',\n",
       "  'https://drive.google.com/file/d/17NmVaIZ7-uqBvSZF_4HPSgLCUwHOTzDw/view?usp=drive_link'),\n",
       " (2,\n",
       "  '18, 9, 5',\n",
       "  'https://drive.google.com/file/d/1hniNcUuzeGXBWthPFlahP3PdoAOqzUfe/view?usp=drive_link'),\n",
       " (3,\n",
       "  '15, 4, 2',\n",
       "  'https://drive.google.com/file/d/1G5X4S3k1badUn_EhsKeVti-Vj558ZdIF/view?usp=drive_link'),\n",
       " (4,\n",
       "  '13, 5, 4',\n",
       "  'https://drive.google.com/file/d/1bYphHVWJ9ZMRjkimNuBInQ7Ayn7btU-d/view?usp=drive_link'),\n",
       " (5,\n",
       "  '7, 11, 3',\n",
       "  'https://drive.google.com/file/d/1krW5AuE-6iZs-JDs4cUZC4pDdDpH3CHL/view?usp=drive_link'),\n",
       " (6,\n",
       "  '6, 6, 7',\n",
       "  'https://drive.google.com/file/d/1yCoGUU9QclD_ILAeH6Zcxuonl2emsEqk/view?usp=drive_link'),\n",
       " (7,\n",
       "  '6, 3, 2',\n",
       "  'https://drive.google.com/file/d/1CqA8gdEOjnkrg80LeNita1lWVI6S9J2J/view?usp=drive_link'),\n",
       " (8,\n",
       "  '20, 3, 12',\n",
       "  'https://drive.google.com/file/d/1qFHwBddFGnmKMWX8v-hxzGjIbQmk4Cfd/view?usp=drive_link'),\n",
       " (9,\n",
       "  '3, 5, 1',\n",
       "  'https://drive.google.com/file/d/155cIV8XBAHGhJV62L4zChcVs4FrLoRj0/view?usp=drive_link'),\n",
       " (10,\n",
       "  '3, 4, 3',\n",
       "  'https://drive.google.com/file/d/1xXkWC7HN0teIGXzSiFyv45Q98LDFB68l/view?usp=drive_link'),\n",
       " (11,\n",
       "  '1, 2, 2',\n",
       "  'https://drive.google.com/file/d/1PoOWYTxfBWaQ3xJcaMK1zwNgQ5mkUk5v/view?usp=drive_link')]"
      ]
     },
     "execution_count": 1,
     "metadata": {},
     "output_type": "execute_result"
    }
   ],
   "source": [
    "#i want to see the content of my database\n",
    "import sqlite3\n",
    "\n",
    "conn = sqlite3.connect('lego_database.db')\n",
    "cursor = conn.cursor()\n",
    "\n",
    "cursor.execute(\"SELECT * FROM legos\")\n",
    "rows = cursor.fetchall()\n",
    "rows"
   ]
  },
  {
   "cell_type": "code",
   "execution_count": 7,
   "metadata": {},
   "outputs": [
    {
     "data": {
      "text/plain": [
       "<sqlite3.Cursor at 0x2e9564d84c0>"
      ]
     },
     "execution_count": 7,
     "metadata": {},
     "output_type": "execute_result"
    }
   ],
   "source": [
    "#modify a the 'possible_shape' all rows \n",
    "cursor.execute(\"UPDATE legos SET possible_shape = 'this is the URL'\")"
   ]
  },
  {
   "cell_type": "code",
   "execution_count": 2,
   "metadata": {},
   "outputs": [
    {
     "data": {
      "text/plain": [
       "<sqlite3.Cursor at 0x1cfe73144c0>"
      ]
     },
     "execution_count": 2,
     "metadata": {},
     "output_type": "execute_result"
    }
   ],
   "source": [
    "#modify the first row of the 'possible_shape' column\n",
    "cursor.execute(\"UPDATE legos SET possible_shape = 'https://p.turbosquid.com/ts-thumb/an/NnEJtI/npcxxipY/legobricks_shape_1_collection/jpg/1537086072/1920x1080/fit_q87/8273464ab7bc71f3f66ce5ade1932d3f7065bdbd/legobricks_shape_1_collection.jpg' WHERE id = 1\")"
   ]
  },
  {
   "cell_type": "code",
   "execution_count": 3,
   "metadata": {},
   "outputs": [
    {
     "data": {
      "text/plain": [
       "[(1,\n",
       "  '1, 0, 10',\n",
       "  'https://p.turbosquid.com/ts-thumb/an/NnEJtI/npcxxipY/legobricks_shape_1_collection/jpg/1537086072/1920x1080/fit_q87/8273464ab7bc71f3f66ce5ade1932d3f7065bdbd/legobricks_shape_1_collection.jpg'),\n",
       " (2,\n",
       "  '18, 9, 5',\n",
       "  'https://drive.google.com/file/d/1hniNcUuzeGXBWthPFlahP3PdoAOqzUfe/view?usp=drive_link'),\n",
       " (3,\n",
       "  '15, 4, 2',\n",
       "  'https://drive.google.com/file/d/1G5X4S3k1badUn_EhsKeVti-Vj558ZdIF/view?usp=drive_link'),\n",
       " (4,\n",
       "  '13, 5, 4',\n",
       "  'https://drive.google.com/file/d/1bYphHVWJ9ZMRjkimNuBInQ7Ayn7btU-d/view?usp=drive_link'),\n",
       " (5,\n",
       "  '7, 11, 3',\n",
       "  'https://drive.google.com/file/d/1krW5AuE-6iZs-JDs4cUZC4pDdDpH3CHL/view?usp=drive_link'),\n",
       " (6,\n",
       "  '6, 6, 7',\n",
       "  'https://drive.google.com/file/d/1yCoGUU9QclD_ILAeH6Zcxuonl2emsEqk/view?usp=drive_link'),\n",
       " (7,\n",
       "  '6, 3, 2',\n",
       "  'https://drive.google.com/file/d/1CqA8gdEOjnkrg80LeNita1lWVI6S9J2J/view?usp=drive_link'),\n",
       " (8,\n",
       "  '20, 3, 12',\n",
       "  'https://drive.google.com/file/d/1qFHwBddFGnmKMWX8v-hxzGjIbQmk4Cfd/view?usp=drive_link'),\n",
       " (9,\n",
       "  '3, 5, 1',\n",
       "  'https://drive.google.com/file/d/155cIV8XBAHGhJV62L4zChcVs4FrLoRj0/view?usp=drive_link'),\n",
       " (10,\n",
       "  '3, 4, 3',\n",
       "  'https://drive.google.com/file/d/1xXkWC7HN0teIGXzSiFyv45Q98LDFB68l/view?usp=drive_link'),\n",
       " (11,\n",
       "  '1, 2, 2',\n",
       "  'https://drive.google.com/file/d/1PoOWYTxfBWaQ3xJcaMK1zwNgQ5mkUk5v/view?usp=drive_link')]"
      ]
     },
     "execution_count": 3,
     "metadata": {},
     "output_type": "execute_result"
    }
   ],
   "source": [
    "cursor.execute(\"SELECT * FROM legos\")\n",
    "rows = cursor.fetchall()\n",
    "rows"
   ]
  },
  {
   "cell_type": "code",
   "execution_count": null,
   "metadata": {},
   "outputs": [],
   "source": []
  }
 ],
 "metadata": {
  "kernelspec": {
   "display_name": "Python 3",
   "language": "python",
   "name": "python3"
  },
  "language_info": {
   "codemirror_mode": {
    "name": "ipython",
    "version": 3
   },
   "file_extension": ".py",
   "mimetype": "text/x-python",
   "name": "python",
   "nbconvert_exporter": "python",
   "pygments_lexer": "ipython3",
   "version": "3.10.8"
  }
 },
 "nbformat": 4,
 "nbformat_minor": 2
}
